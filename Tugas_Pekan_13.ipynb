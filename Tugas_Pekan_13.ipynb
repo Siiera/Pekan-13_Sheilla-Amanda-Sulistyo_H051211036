{
  "nbformat": 4,
  "nbformat_minor": 0,
  "metadata": {
    "colab": {
      "name": "Tugas Pekan 13",
      "provenance": [],
      "authorship_tag": "ABX9TyMMG66U4xTqShaFwV2a75Xd",
      "include_colab_link": true
    },
    "kernelspec": {
      "name": "python3",
      "display_name": "Python 3"
    },
    "language_info": {
      "name": "python"
    }
  },
  "cells": [
    {
      "cell_type": "markdown",
      "metadata": {
        "id": "view-in-github",
        "colab_type": "text"
      },
      "source": [
        "<a href=\"https://colab.research.google.com/github/Siiera/Pekan-13_Sheilla-Amanda-Sulistyo_H051211036/blob/main/Tugas_Pekan_13.ipynb\" target=\"_parent\"><img src=\"https://colab.research.google.com/assets/colab-badge.svg\" alt=\"Open In Colab\"/></a>"
      ]
    },
    {
      "cell_type": "markdown",
      "source": [
        "**LATIHAN**\n",
        "Buatlah program untuk menghitung penjumlahan 2 buah matriks"
      ],
      "metadata": {
        "id": "HVhEfjcfkYI1"
      }
    },
    {
      "cell_type": "code",
      "source": [
        "mat1 = [                                              #Bentuk matriks dapat ditulis memanjang kesamping seperti pada mat2\n",
        "        [3, -8],\n",
        "        [4, 9],\n",
        "      ]\n",
        "mat2 = [[1, 0],[-5, 3],]\n",
        "\n",
        "for x in range(0, len(mat1)):\n",
        "    for y in range(0, len(mat1[0])):\n",
        "        print (mat1[x][y] + mat2[x][y], end=' ')\n",
        "    print('')                                        #Jika tidak memakai print('') maka hasilnya akan terprint hanya 1 baris, tidak menajdi matriks 2x2"
      ],
      "metadata": {
        "colab": {
          "base_uri": "https://localhost:8080/"
        },
        "id": "SXV1RRpCh696",
        "outputId": "65bea8e8-ca9f-4355-f0ec-7d5528245ec2"
      },
      "execution_count": null,
      "outputs": [
        {
          "output_type": "stream",
          "name": "stdout",
          "text": [
            "4 -8 \n",
            "-1 12 \n"
          ]
        }
      ]
    },
    {
      "cell_type": "markdown",
      "source": [
        "**Nomor 1.**\n",
        "Buatlah program untuk menghitung total pembelian N buah barang dengan harga dan jumlah tertentu"
      ],
      "metadata": {
        "id": "NSBVqrVxvEWL"
      }
    },
    {
      "cell_type": "code",
      "execution_count": 4,
      "metadata": {
        "id": "grfGBqwvt_Dz",
        "colab": {
          "base_uri": "https://localhost:8080/"
        },
        "outputId": "3c079a53-5760-4633-df19-ba4141c2db6b"
      },
      "outputs": [
        {
          "output_type": "stream",
          "name": "stdout",
          "text": [
            " Sheilla's Cookies\n",
            "Nama barang:Cookies\n",
            "Harga barang: Rp. 3000\n",
            "Jumlah barang yang dibeli: 7\n",
            "Total Harga =  Rp. 21000\n",
            "Jumlah Nominal Uang =1000000\n",
            "Uang Kembalian =  Rp. 979000\n"
          ]
        }
      ],
      "source": [
        "print(\" Sheilla's Cookies\")\n",
        "\n",
        "nama= str(input(\"Nama barang:\"))\n",
        "harga= int(input(\"Harga barang: Rp. \"))\n",
        "jumlah= int(input(\"Jumlah barang yang dibeli: \"))\n",
        "Total=(int(harga*jumlah))\n",
        "print(\"Total Harga = \", \"Rp.\",Total)\n",
        "Bayar=int(input(\"Jumlah Nominal Uang =\" ))\n",
        "Kembalian= (Bayar-Total)\n",
        "print(\"Uang Kembalian = \", \"Rp.\",Kembalian)\n"
      ]
    },
    {
      "cell_type": "markdown",
      "source": [
        "**Nomor 2** Buatlah program untuk menghitung banyaknya bilangan genap ataupun bilangan ganjil dari N buah bilangan yang diinput secara acak"
      ],
      "metadata": {
        "id": "slSf15RhvNU_"
      }
    },
    {
      "cell_type": "code",
      "source": [
        "print('Masukkan nilai awal dan nilai akhir')\n",
        "\n",
        "nilai_awal = int(input(' nilai awal: '))\n",
        "nilai_akhir = int(input(' nilai akhir: '))\n",
        "total_genap= 0\n",
        "total_ganjil= 0\n",
        "\n",
        "print(\"\"\"\\nTampilkan bilangan\n",
        " 1. Ganjil\n",
        " 2. Genap\"\"\")\n",
        "\n",
        "pilihan = int(input('pilihan: '))\n",
        "if pilihan not in [1, 2]:\n",
        "  print('pilihan salah')\n",
        "else:\n",
        "  for x in range(nilai_awal, nilai_akhir + 1):\n",
        "    if pilihan == 1 and x % 2 == 1:\n",
        "      print(x, end = \" \")\n",
        "      total_ganjil = total_ganjil + 1\n",
        "    elif pilihan == 2 and x % 2 == 0:\n",
        "      print(x, end = \" \")\n",
        "      total_genap = total_genap + 1\n",
        "  else:\n",
        "      print('')\n",
        "\n",
        "if pilihan == 1 :\n",
        "  print(\"Banyak Bilangan Ganjil adalah \" , total_ganjil)\n",
        "elif pilihan == 2 :\n",
        "  print(\"Banyak Bilangan Genap adalah \" , total_genap)"
      ],
      "metadata": {
        "id": "BzUuL-32vVyF",
        "colab": {
          "base_uri": "https://localhost:8080/"
        },
        "outputId": "3e80a6f7-8bbb-4204-c324-60d6efefb4e9"
      },
      "execution_count": 3,
      "outputs": [
        {
          "output_type": "stream",
          "name": "stdout",
          "text": [
            "Masukkan nilai awal dan nilai akhir\n",
            " nilai awal: 1\n",
            " nilai akhir: 10\n",
            "\n",
            "Tampilkan bilangan\n",
            " 1. Ganjil\n",
            " 2. Genap\n",
            "pilihan: 2\n",
            "2 4 6 8 10 \n",
            "Banyak Bilangan Genap adalah  5\n"
          ]
        }
      ]
    },
    {
      "cell_type": "markdown",
      "source": [
        "**Nomor 3** Buatlah program untuk menampilkan bilangan kelipatan 3 diantara bilangan tertentu"
      ],
      "metadata": {
        "id": "lINm1EwhvWrI"
      }
    },
    {
      "cell_type": "code",
      "source": [
        "a = int(input('angka awal;'))\n",
        "b = int(input('angka akhir;'))\n",
        "\n",
        "for x in range (a,b+1):\n",
        "  print (x)                             #dapat juga menggunakan end='' untuk membuatnya menjadi satu baris\n",
        "\n",
        "while x >= 1:\n",
        "  if (x % 3) == 0:\n",
        "    print ('bilangan kelipatan 3 diatas yaitu %d ,' %x)\n",
        "  x = x - 1\n"
      ],
      "metadata": {
        "id": "9qwq2VfDvYV-",
        "colab": {
          "base_uri": "https://localhost:8080/"
        },
        "outputId": "4f92f868-2e12-4bef-8e54-d6c1e93dc8b9"
      },
      "execution_count": 2,
      "outputs": [
        {
          "output_type": "stream",
          "name": "stdout",
          "text": [
            "angka awal;1\n",
            "angka akhir;100\n",
            "1\n",
            "2\n",
            "3\n",
            "4\n",
            "5\n",
            "6\n",
            "7\n",
            "8\n",
            "9\n",
            "10\n",
            "11\n",
            "12\n",
            "13\n",
            "14\n",
            "15\n",
            "16\n",
            "17\n",
            "18\n",
            "19\n",
            "20\n",
            "21\n",
            "22\n",
            "23\n",
            "24\n",
            "25\n",
            "26\n",
            "27\n",
            "28\n",
            "29\n",
            "30\n",
            "31\n",
            "32\n",
            "33\n",
            "34\n",
            "35\n",
            "36\n",
            "37\n",
            "38\n",
            "39\n",
            "40\n",
            "41\n",
            "42\n",
            "43\n",
            "44\n",
            "45\n",
            "46\n",
            "47\n",
            "48\n",
            "49\n",
            "50\n",
            "51\n",
            "52\n",
            "53\n",
            "54\n",
            "55\n",
            "56\n",
            "57\n",
            "58\n",
            "59\n",
            "60\n",
            "61\n",
            "62\n",
            "63\n",
            "64\n",
            "65\n",
            "66\n",
            "67\n",
            "68\n",
            "69\n",
            "70\n",
            "71\n",
            "72\n",
            "73\n",
            "74\n",
            "75\n",
            "76\n",
            "77\n",
            "78\n",
            "79\n",
            "80\n",
            "81\n",
            "82\n",
            "83\n",
            "84\n",
            "85\n",
            "86\n",
            "87\n",
            "88\n",
            "89\n",
            "90\n",
            "91\n",
            "92\n",
            "93\n",
            "94\n",
            "95\n",
            "96\n",
            "97\n",
            "98\n",
            "99\n",
            "100\n",
            "bilangan kelipatan 3 diatas yaitu 99 ,\n",
            "bilangan kelipatan 3 diatas yaitu 96 ,\n",
            "bilangan kelipatan 3 diatas yaitu 93 ,\n",
            "bilangan kelipatan 3 diatas yaitu 90 ,\n",
            "bilangan kelipatan 3 diatas yaitu 87 ,\n",
            "bilangan kelipatan 3 diatas yaitu 84 ,\n",
            "bilangan kelipatan 3 diatas yaitu 81 ,\n",
            "bilangan kelipatan 3 diatas yaitu 78 ,\n",
            "bilangan kelipatan 3 diatas yaitu 75 ,\n",
            "bilangan kelipatan 3 diatas yaitu 72 ,\n",
            "bilangan kelipatan 3 diatas yaitu 69 ,\n",
            "bilangan kelipatan 3 diatas yaitu 66 ,\n",
            "bilangan kelipatan 3 diatas yaitu 63 ,\n",
            "bilangan kelipatan 3 diatas yaitu 60 ,\n",
            "bilangan kelipatan 3 diatas yaitu 57 ,\n",
            "bilangan kelipatan 3 diatas yaitu 54 ,\n",
            "bilangan kelipatan 3 diatas yaitu 51 ,\n",
            "bilangan kelipatan 3 diatas yaitu 48 ,\n",
            "bilangan kelipatan 3 diatas yaitu 45 ,\n",
            "bilangan kelipatan 3 diatas yaitu 42 ,\n",
            "bilangan kelipatan 3 diatas yaitu 39 ,\n",
            "bilangan kelipatan 3 diatas yaitu 36 ,\n",
            "bilangan kelipatan 3 diatas yaitu 33 ,\n",
            "bilangan kelipatan 3 diatas yaitu 30 ,\n",
            "bilangan kelipatan 3 diatas yaitu 27 ,\n",
            "bilangan kelipatan 3 diatas yaitu 24 ,\n",
            "bilangan kelipatan 3 diatas yaitu 21 ,\n",
            "bilangan kelipatan 3 diatas yaitu 18 ,\n",
            "bilangan kelipatan 3 diatas yaitu 15 ,\n",
            "bilangan kelipatan 3 diatas yaitu 12 ,\n",
            "bilangan kelipatan 3 diatas yaitu 9 ,\n",
            "bilangan kelipatan 3 diatas yaitu 6 ,\n",
            "bilangan kelipatan 3 diatas yaitu 3 ,\n"
          ]
        }
      ]
    },
    {
      "cell_type": "markdown",
      "source": [
        "**Nomor 4** Buatlah program untuk menampilkan bentuk bilangan seperti berikut ini:\n",
        "Bilangan : <input suatu bilangan (misal:5)>\n",
        "1\n",
        "12\n",
        "123\n",
        "1234\n",
        "12345\n"
      ],
      "metadata": {
        "id": "KG83pxGsvXJT"
      }
    },
    {
      "cell_type": "code",
      "source": [
        "baris = int(input(\"Baris Total \"))\n",
        "\n",
        "for i in range(baris):\n",
        "    for j in range(i+1):\n",
        "        print(j+1, end=\" \")\n",
        "    print('')                          #jika ingin membuat segitiga siku2nyaterbalik kebawah menggunakan rumus a-=1"
      ],
      "metadata": {
        "id": "CblCdHNOvZbW",
        "colab": {
          "base_uri": "https://localhost:8080/"
        },
        "outputId": "f3d9796d-e1e5-4358-a317-7cfa9c3aef60"
      },
      "execution_count": 1,
      "outputs": [
        {
          "output_type": "stream",
          "name": "stdout",
          "text": [
            "Baris Total 5\n",
            "1 \n",
            "1 2 \n",
            "1 2 3 \n",
            "1 2 3 4 \n",
            "1 2 3 4 5 \n"
          ]
        }
      ]
    },
    {
      "cell_type": "markdown",
      "source": [
        "**Nomor 5** Buatlah program untuk menghitung dan menampilkan bentuk berikut ini:\n",
        "\n",
        "No. Nama Mhs N.Tugas N.Kuis N.UTS N.UAS NilaiAkhir\n",
        "\n",
        "1\n",
        "\n",
        "2\n",
        "\n",
        "...\n",
        "\n",
        "N"
      ],
      "metadata": {
        "id": "TQnKH3Covl_M"
      }
    },
    {
      "cell_type": "code",
      "source": [
        "data = []\n",
        "while True:\n",
        "    print(\"Data Nilai\")\n",
        "    print('1. Tambah data')\n",
        "    print('2. Tampilkan data')\n",
        "    pilihan = int(input(\"Pilihan: \"))\n",
        "    if pilihan == 1:\n",
        "        print (\"\\nMasukkan data mahasiswa(i):\")\n",
        "        print (\"Nama Mhs, N.Tugas, N.Kuis, N.UTS, N.UAS\")\n",
        "        datamhs = input(\"Masukan data: \\n\")\n",
        "        datamhs = datamhs.split(\",\")\n",
        "        data.append(datamhs)\n",
        "    elif pilihan == 2:\n",
        "        print('''\n",
        "--------------------------------------------------------------------\n",
        "No. Nama Mhs         N.Tugas   N.Kuis   N.UTS   N.UAS   NilaiAkhir\n",
        "--------------------------------------------------------------------''')\n",
        "        count=0        \n",
        "        for i in (data):\n",
        "            count+=1\n",
        "            NilaiAkhir = (((int(i[1]))*30 + int(i[2])*20 + (int(i[3]))*25 + int(i[4])*25))/100\n",
        "            print (str(count)+\".   \", \"       \".join(i),\"   \", NilaiAkhir)\n",
        "            print ()\n",
        "            print('--------------------------------------------------------------------')\n",
        "    else :\n",
        "        print (\"Error\")"
      ],
      "metadata": {
        "id": "BEp6R8GnvnfX",
        "colab": {
          "base_uri": "https://localhost:8080/"
        },
        "outputId": "74b4ac79-4af5-4623-e212-4f9fd528a8ad"
      },
      "execution_count": null,
      "outputs": [
        {
          "output_type": "stream",
          "name": "stdout",
          "text": [
            "Data Nilai\n",
            "1. Tambah data\n",
            "2. Tampilkan data\n",
            "Pilihan: 1\n",
            "\n",
            "zMasukkan data mahasiswa(i):\n",
            "Nama Mhs, N.Tugas, N.Kuis, N.UTS, N.UAS\n",
            "Masukan data: \n",
            "t,10,10,10,10\n",
            "Data Nilai\n",
            "1. Tambah data\n",
            "2. Tampilkan data\n",
            "Pilihan: 1\n",
            "\n",
            "zMasukkan data mahasiswa(i):\n",
            "Nama Mhs, N.Tugas, N.Kuis, N.UTS, N.UAS\n",
            "Masukan data: \n",
            "c,10,10,20,10\n",
            "Data Nilai\n",
            "1. Tambah data\n",
            "2. Tampilkan data\n",
            "Pilihan: 2\n",
            "\n",
            "--------------------------------------------------------------------\n",
            "No. Nama Mhs         N.Tugas   N.Kuis   N.UTS   N.UAS   NilaiAkhir\n",
            "--------------------------------------------------------------------\n",
            "1.    t       10       10       10       10     10.0\n",
            "\n",
            "--------------------------------------------------------------------\n",
            "2.    c       10       10       20       10     12.5\n",
            "\n",
            "--------------------------------------------------------------------\n",
            "Data Nilai\n",
            "1. Tambah data\n",
            "2. Tampilkan data\n"
          ]
        }
      ]
    }
  ]
}